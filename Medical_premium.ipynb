{
 "cells": [
  {
   "cell_type": "code",
   "execution_count": 90,
   "metadata": {},
   "outputs": [],
   "source": [
    "import pandas as pd\n",
    "import matplotlib.pyplot as plt\n",
    "import seaborn as sns\n",
    "import numpy as np"
   ]
  },
  {
   "cell_type": "code",
   "execution_count": 91,
   "metadata": {},
   "outputs": [
    {
     "data": {
      "text/html": [
       "<div>\n",
       "<style scoped>\n",
       "    .dataframe tbody tr th:only-of-type {\n",
       "        vertical-align: middle;\n",
       "    }\n",
       "\n",
       "    .dataframe tbody tr th {\n",
       "        vertical-align: top;\n",
       "    }\n",
       "\n",
       "    .dataframe thead th {\n",
       "        text-align: right;\n",
       "    }\n",
       "</style>\n",
       "<table border=\"1\" class=\"dataframe\">\n",
       "  <thead>\n",
       "    <tr style=\"text-align: right;\">\n",
       "      <th></th>\n",
       "      <th>age</th>\n",
       "      <th>sex</th>\n",
       "      <th>bmi</th>\n",
       "      <th>children</th>\n",
       "      <th>smoker</th>\n",
       "      <th>region</th>\n",
       "      <th>expenses</th>\n",
       "    </tr>\n",
       "  </thead>\n",
       "  <tbody>\n",
       "    <tr>\n",
       "      <th>0</th>\n",
       "      <td>19</td>\n",
       "      <td>female</td>\n",
       "      <td>27.9</td>\n",
       "      <td>0</td>\n",
       "      <td>yes</td>\n",
       "      <td>southwest</td>\n",
       "      <td>16884.92</td>\n",
       "    </tr>\n",
       "    <tr>\n",
       "      <th>1</th>\n",
       "      <td>18</td>\n",
       "      <td>male</td>\n",
       "      <td>33.8</td>\n",
       "      <td>1</td>\n",
       "      <td>no</td>\n",
       "      <td>southeast</td>\n",
       "      <td>1725.55</td>\n",
       "    </tr>\n",
       "    <tr>\n",
       "      <th>2</th>\n",
       "      <td>28</td>\n",
       "      <td>male</td>\n",
       "      <td>33.0</td>\n",
       "      <td>3</td>\n",
       "      <td>no</td>\n",
       "      <td>southeast</td>\n",
       "      <td>4449.46</td>\n",
       "    </tr>\n",
       "    <tr>\n",
       "      <th>3</th>\n",
       "      <td>33</td>\n",
       "      <td>male</td>\n",
       "      <td>22.7</td>\n",
       "      <td>0</td>\n",
       "      <td>no</td>\n",
       "      <td>northwest</td>\n",
       "      <td>21984.47</td>\n",
       "    </tr>\n",
       "    <tr>\n",
       "      <th>4</th>\n",
       "      <td>32</td>\n",
       "      <td>male</td>\n",
       "      <td>28.9</td>\n",
       "      <td>0</td>\n",
       "      <td>no</td>\n",
       "      <td>northwest</td>\n",
       "      <td>3866.86</td>\n",
       "    </tr>\n",
       "  </tbody>\n",
       "</table>\n",
       "</div>"
      ],
      "text/plain": [
       "   age     sex   bmi  children smoker     region  expenses\n",
       "0   19  female  27.9         0    yes  southwest  16884.92\n",
       "1   18    male  33.8         1     no  southeast   1725.55\n",
       "2   28    male  33.0         3     no  southeast   4449.46\n",
       "3   33    male  22.7         0     no  northwest  21984.47\n",
       "4   32    male  28.9         0     no  northwest   3866.86"
      ]
     },
     "execution_count": 91,
     "metadata": {},
     "output_type": "execute_result"
    }
   ],
   "source": [
    "insurance = pd.read_csv(\"insurance.csv\")\n",
    "insurance.head()"
   ]
  },
  {
   "cell_type": "code",
   "execution_count": 92,
   "metadata": {},
   "outputs": [
    {
     "data": {
      "text/html": [
       "<div>\n",
       "<style scoped>\n",
       "    .dataframe tbody tr th:only-of-type {\n",
       "        vertical-align: middle;\n",
       "    }\n",
       "\n",
       "    .dataframe tbody tr th {\n",
       "        vertical-align: top;\n",
       "    }\n",
       "\n",
       "    .dataframe thead th {\n",
       "        text-align: right;\n",
       "    }\n",
       "</style>\n",
       "<table border=\"1\" class=\"dataframe\">\n",
       "  <thead>\n",
       "    <tr style=\"text-align: right;\">\n",
       "      <th></th>\n",
       "      <th>age</th>\n",
       "      <th>bmi</th>\n",
       "      <th>children</th>\n",
       "      <th>expenses</th>\n",
       "    </tr>\n",
       "  </thead>\n",
       "  <tbody>\n",
       "    <tr>\n",
       "      <th>count</th>\n",
       "      <td>1338.000000</td>\n",
       "      <td>1338.000000</td>\n",
       "      <td>1338.000000</td>\n",
       "      <td>1338.000000</td>\n",
       "    </tr>\n",
       "    <tr>\n",
       "      <th>mean</th>\n",
       "      <td>39.207025</td>\n",
       "      <td>30.665471</td>\n",
       "      <td>1.094918</td>\n",
       "      <td>13270.422414</td>\n",
       "    </tr>\n",
       "    <tr>\n",
       "      <th>std</th>\n",
       "      <td>14.049960</td>\n",
       "      <td>6.098382</td>\n",
       "      <td>1.205493</td>\n",
       "      <td>12110.011240</td>\n",
       "    </tr>\n",
       "    <tr>\n",
       "      <th>min</th>\n",
       "      <td>18.000000</td>\n",
       "      <td>16.000000</td>\n",
       "      <td>0.000000</td>\n",
       "      <td>1121.870000</td>\n",
       "    </tr>\n",
       "    <tr>\n",
       "      <th>25%</th>\n",
       "      <td>27.000000</td>\n",
       "      <td>26.300000</td>\n",
       "      <td>0.000000</td>\n",
       "      <td>4740.287500</td>\n",
       "    </tr>\n",
       "    <tr>\n",
       "      <th>50%</th>\n",
       "      <td>39.000000</td>\n",
       "      <td>30.400000</td>\n",
       "      <td>1.000000</td>\n",
       "      <td>9382.030000</td>\n",
       "    </tr>\n",
       "    <tr>\n",
       "      <th>75%</th>\n",
       "      <td>51.000000</td>\n",
       "      <td>34.700000</td>\n",
       "      <td>2.000000</td>\n",
       "      <td>16639.915000</td>\n",
       "    </tr>\n",
       "    <tr>\n",
       "      <th>max</th>\n",
       "      <td>64.000000</td>\n",
       "      <td>53.100000</td>\n",
       "      <td>5.000000</td>\n",
       "      <td>63770.430000</td>\n",
       "    </tr>\n",
       "  </tbody>\n",
       "</table>\n",
       "</div>"
      ],
      "text/plain": [
       "               age          bmi     children      expenses\n",
       "count  1338.000000  1338.000000  1338.000000   1338.000000\n",
       "mean     39.207025    30.665471     1.094918  13270.422414\n",
       "std      14.049960     6.098382     1.205493  12110.011240\n",
       "min      18.000000    16.000000     0.000000   1121.870000\n",
       "25%      27.000000    26.300000     0.000000   4740.287500\n",
       "50%      39.000000    30.400000     1.000000   9382.030000\n",
       "75%      51.000000    34.700000     2.000000  16639.915000\n",
       "max      64.000000    53.100000     5.000000  63770.430000"
      ]
     },
     "execution_count": 92,
     "metadata": {},
     "output_type": "execute_result"
    }
   ],
   "source": [
    "insurance.describe()"
   ]
  },
  {
   "cell_type": "code",
   "execution_count": 93,
   "metadata": {},
   "outputs": [
    {
     "data": {
      "text/plain": [
       "age         0\n",
       "sex         0\n",
       "bmi         0\n",
       "children    0\n",
       "smoker      0\n",
       "region      0\n",
       "expenses    0\n",
       "dtype: int64"
      ]
     },
     "execution_count": 93,
     "metadata": {},
     "output_type": "execute_result"
    }
   ],
   "source": [
    "insurance.isnull().sum()"
   ]
  },
  {
   "cell_type": "code",
   "execution_count": 94,
   "metadata": {},
   "outputs": [],
   "source": [
    "def outliers_iqr(ys):\n",
    "    quartile_1, quartile_3 = np.percentile(ys, [25, 75])\n",
    "    iqr = quartile_3 - quartile_1\n",
    "    lower_bound = quartile_1 - (iqr * 1.5)\n",
    "    upper_bound = quartile_3 + (iqr * 1.5)\n",
    "    return np.where((ys > upper_bound) | (ys < lower_bound))"
   ]
  },
  {
   "cell_type": "code",
   "execution_count": 95,
   "metadata": {},
   "outputs": [
    {
     "data": {
      "text/html": [
       "<div>\n",
       "<style scoped>\n",
       "    .dataframe tbody tr th:only-of-type {\n",
       "        vertical-align: middle;\n",
       "    }\n",
       "\n",
       "    .dataframe tbody tr th {\n",
       "        vertical-align: top;\n",
       "    }\n",
       "\n",
       "    .dataframe thead th {\n",
       "        text-align: right;\n",
       "    }\n",
       "</style>\n",
       "<table border=\"1\" class=\"dataframe\">\n",
       "  <thead>\n",
       "    <tr style=\"text-align: right;\">\n",
       "      <th></th>\n",
       "      <th>age</th>\n",
       "      <th>sex</th>\n",
       "      <th>bmi</th>\n",
       "      <th>children</th>\n",
       "      <th>smoker</th>\n",
       "      <th>region</th>\n",
       "      <th>expenses</th>\n",
       "    </tr>\n",
       "  </thead>\n",
       "  <tbody>\n",
       "    <tr>\n",
       "      <th>116</th>\n",
       "      <td>58</td>\n",
       "      <td>male</td>\n",
       "      <td>49.1</td>\n",
       "      <td>0</td>\n",
       "      <td>no</td>\n",
       "      <td>southeast</td>\n",
       "      <td>11381.33</td>\n",
       "    </tr>\n",
       "    <tr>\n",
       "      <th>286</th>\n",
       "      <td>46</td>\n",
       "      <td>female</td>\n",
       "      <td>48.1</td>\n",
       "      <td>2</td>\n",
       "      <td>no</td>\n",
       "      <td>northeast</td>\n",
       "      <td>9432.93</td>\n",
       "    </tr>\n",
       "    <tr>\n",
       "      <th>401</th>\n",
       "      <td>47</td>\n",
       "      <td>male</td>\n",
       "      <td>47.5</td>\n",
       "      <td>1</td>\n",
       "      <td>no</td>\n",
       "      <td>southeast</td>\n",
       "      <td>8083.92</td>\n",
       "    </tr>\n",
       "    <tr>\n",
       "      <th>543</th>\n",
       "      <td>54</td>\n",
       "      <td>female</td>\n",
       "      <td>47.4</td>\n",
       "      <td>0</td>\n",
       "      <td>yes</td>\n",
       "      <td>southeast</td>\n",
       "      <td>63770.43</td>\n",
       "    </tr>\n",
       "    <tr>\n",
       "      <th>847</th>\n",
       "      <td>23</td>\n",
       "      <td>male</td>\n",
       "      <td>50.4</td>\n",
       "      <td>1</td>\n",
       "      <td>no</td>\n",
       "      <td>southeast</td>\n",
       "      <td>2438.06</td>\n",
       "    </tr>\n",
       "    <tr>\n",
       "      <th>860</th>\n",
       "      <td>37</td>\n",
       "      <td>female</td>\n",
       "      <td>47.6</td>\n",
       "      <td>2</td>\n",
       "      <td>yes</td>\n",
       "      <td>southwest</td>\n",
       "      <td>46113.51</td>\n",
       "    </tr>\n",
       "    <tr>\n",
       "      <th>1047</th>\n",
       "      <td>22</td>\n",
       "      <td>male</td>\n",
       "      <td>52.6</td>\n",
       "      <td>1</td>\n",
       "      <td>yes</td>\n",
       "      <td>southeast</td>\n",
       "      <td>44501.40</td>\n",
       "    </tr>\n",
       "    <tr>\n",
       "      <th>1088</th>\n",
       "      <td>52</td>\n",
       "      <td>male</td>\n",
       "      <td>47.7</td>\n",
       "      <td>1</td>\n",
       "      <td>no</td>\n",
       "      <td>southeast</td>\n",
       "      <td>9748.91</td>\n",
       "    </tr>\n",
       "    <tr>\n",
       "      <th>1317</th>\n",
       "      <td>18</td>\n",
       "      <td>male</td>\n",
       "      <td>53.1</td>\n",
       "      <td>0</td>\n",
       "      <td>no</td>\n",
       "      <td>southeast</td>\n",
       "      <td>1163.46</td>\n",
       "    </tr>\n",
       "  </tbody>\n",
       "</table>\n",
       "</div>"
      ],
      "text/plain": [
       "      age     sex   bmi  children smoker     region  expenses\n",
       "116    58    male  49.1         0     no  southeast  11381.33\n",
       "286    46  female  48.1         2     no  northeast   9432.93\n",
       "401    47    male  47.5         1     no  southeast   8083.92\n",
       "543    54  female  47.4         0    yes  southeast  63770.43\n",
       "847    23    male  50.4         1     no  southeast   2438.06\n",
       "860    37  female  47.6         2    yes  southwest  46113.51\n",
       "1047   22    male  52.6         1    yes  southeast  44501.40\n",
       "1088   52    male  47.7         1     no  southeast   9748.91\n",
       "1317   18    male  53.1         0     no  southeast   1163.46"
      ]
     },
     "execution_count": 95,
     "metadata": {},
     "output_type": "execute_result"
    }
   ],
   "source": [
    "insurance.loc[outliers_iqr(insurance[\"bmi\"])]"
   ]
  },
  {
   "cell_type": "code",
   "execution_count": 96,
   "metadata": {},
   "outputs": [
    {
     "name": "stdout",
     "output_type": "stream",
     "text": [
      "female    662\n",
      "male      676\n",
      "Name: sex, dtype: int64\n",
      "yes     274\n",
      "no     1064\n",
      "Name: smoker, dtype: int64\n",
      "northeast    324\n",
      "northwest    325\n",
      "southwest    325\n",
      "southeast    364\n",
      "Name: region, dtype: int64\n"
     ]
    }
   ],
   "source": [
    "print(insurance['sex'].value_counts().sort_values()) \n",
    "print(insurance['smoker'].value_counts().sort_values())\n",
    "print(insurance['region'].value_counts().sort_values())"
   ]
  },
  {
   "cell_type": "code",
   "execution_count": 97,
   "metadata": {},
   "outputs": [],
   "source": [
    "clean_insurance= {'sex': {'male' : 0 , 'female' : 1} ,\n",
    "                 'smoker': {'no': 0 , 'yes' : 1},\n",
    "                   'region' : {'northwest':0, 'northeast':1,'southeast':2,'southwest':3}\n",
    "               }\n",
    "insurance = insurance.copy()\n",
    "insurance.replace(clean_insurance, inplace=True)"
   ]
  },
  {
   "cell_type": "code",
   "execution_count": 98,
   "metadata": {},
   "outputs": [
    {
     "data": {
      "text/html": [
       "<div>\n",
       "<style scoped>\n",
       "    .dataframe tbody tr th:only-of-type {\n",
       "        vertical-align: middle;\n",
       "    }\n",
       "\n",
       "    .dataframe tbody tr th {\n",
       "        vertical-align: top;\n",
       "    }\n",
       "\n",
       "    .dataframe thead th {\n",
       "        text-align: right;\n",
       "    }\n",
       "</style>\n",
       "<table border=\"1\" class=\"dataframe\">\n",
       "  <thead>\n",
       "    <tr style=\"text-align: right;\">\n",
       "      <th></th>\n",
       "      <th>age</th>\n",
       "      <th>sex</th>\n",
       "      <th>bmi</th>\n",
       "      <th>children</th>\n",
       "      <th>smoker</th>\n",
       "      <th>region</th>\n",
       "      <th>expenses</th>\n",
       "    </tr>\n",
       "  </thead>\n",
       "  <tbody>\n",
       "    <tr>\n",
       "      <th>count</th>\n",
       "      <td>1338.000000</td>\n",
       "      <td>1338.000000</td>\n",
       "      <td>1338.000000</td>\n",
       "      <td>1338.000000</td>\n",
       "      <td>1338.000000</td>\n",
       "      <td>1338.000000</td>\n",
       "      <td>1338.000000</td>\n",
       "    </tr>\n",
       "    <tr>\n",
       "      <th>mean</th>\n",
       "      <td>39.207025</td>\n",
       "      <td>0.494768</td>\n",
       "      <td>30.665471</td>\n",
       "      <td>1.094918</td>\n",
       "      <td>0.204783</td>\n",
       "      <td>1.514948</td>\n",
       "      <td>13270.422414</td>\n",
       "    </tr>\n",
       "    <tr>\n",
       "      <th>std</th>\n",
       "      <td>14.049960</td>\n",
       "      <td>0.500160</td>\n",
       "      <td>6.098382</td>\n",
       "      <td>1.205493</td>\n",
       "      <td>0.403694</td>\n",
       "      <td>1.105572</td>\n",
       "      <td>12110.011240</td>\n",
       "    </tr>\n",
       "    <tr>\n",
       "      <th>min</th>\n",
       "      <td>18.000000</td>\n",
       "      <td>0.000000</td>\n",
       "      <td>16.000000</td>\n",
       "      <td>0.000000</td>\n",
       "      <td>0.000000</td>\n",
       "      <td>0.000000</td>\n",
       "      <td>1121.870000</td>\n",
       "    </tr>\n",
       "    <tr>\n",
       "      <th>25%</th>\n",
       "      <td>27.000000</td>\n",
       "      <td>0.000000</td>\n",
       "      <td>26.300000</td>\n",
       "      <td>0.000000</td>\n",
       "      <td>0.000000</td>\n",
       "      <td>1.000000</td>\n",
       "      <td>4740.287500</td>\n",
       "    </tr>\n",
       "    <tr>\n",
       "      <th>50%</th>\n",
       "      <td>39.000000</td>\n",
       "      <td>0.000000</td>\n",
       "      <td>30.400000</td>\n",
       "      <td>1.000000</td>\n",
       "      <td>0.000000</td>\n",
       "      <td>2.000000</td>\n",
       "      <td>9382.030000</td>\n",
       "    </tr>\n",
       "    <tr>\n",
       "      <th>75%</th>\n",
       "      <td>51.000000</td>\n",
       "      <td>1.000000</td>\n",
       "      <td>34.700000</td>\n",
       "      <td>2.000000</td>\n",
       "      <td>0.000000</td>\n",
       "      <td>2.000000</td>\n",
       "      <td>16639.915000</td>\n",
       "    </tr>\n",
       "    <tr>\n",
       "      <th>max</th>\n",
       "      <td>64.000000</td>\n",
       "      <td>1.000000</td>\n",
       "      <td>53.100000</td>\n",
       "      <td>5.000000</td>\n",
       "      <td>1.000000</td>\n",
       "      <td>3.000000</td>\n",
       "      <td>63770.430000</td>\n",
       "    </tr>\n",
       "  </tbody>\n",
       "</table>\n",
       "</div>"
      ],
      "text/plain": [
       "               age          sex          bmi     children       smoker  \\\n",
       "count  1338.000000  1338.000000  1338.000000  1338.000000  1338.000000   \n",
       "mean     39.207025     0.494768    30.665471     1.094918     0.204783   \n",
       "std      14.049960     0.500160     6.098382     1.205493     0.403694   \n",
       "min      18.000000     0.000000    16.000000     0.000000     0.000000   \n",
       "25%      27.000000     0.000000    26.300000     0.000000     0.000000   \n",
       "50%      39.000000     0.000000    30.400000     1.000000     0.000000   \n",
       "75%      51.000000     1.000000    34.700000     2.000000     0.000000   \n",
       "max      64.000000     1.000000    53.100000     5.000000     1.000000   \n",
       "\n",
       "            region      expenses  \n",
       "count  1338.000000   1338.000000  \n",
       "mean      1.514948  13270.422414  \n",
       "std       1.105572  12110.011240  \n",
       "min       0.000000   1121.870000  \n",
       "25%       1.000000   4740.287500  \n",
       "50%       2.000000   9382.030000  \n",
       "75%       2.000000  16639.915000  \n",
       "max       3.000000  63770.430000  "
      ]
     },
     "execution_count": 98,
     "metadata": {},
     "output_type": "execute_result"
    }
   ],
   "source": [
    "insurance.describe()"
   ]
  },
  {
   "cell_type": "code",
   "execution_count": 99,
   "metadata": {},
   "outputs": [
    {
     "data": {
      "image/png": "[encoded data removed]",
      "text/plain": [
       "<Figure size 720x576 with 2 Axes>"
      ]
     },
     "metadata": {
      "needs_background": "light"
     },
     "output_type": "display_data"
    }
   ],
   "source": [
    "list1 = [\"age\",\"bmi\",\"children\",\"expenses\",\"sex\",\"smoker\",\"region\"]\n",
    "fig, ax = plt.subplots(figsize=(10,8))\n",
    "sns.heatmap(insurance[list1].corr(), annot = True , fmt=\".2f\")\n",
    "plt.show()"
   ]
  },
  {
   "cell_type": "code",
   "execution_count": 103,
   "metadata": {},
   "outputs": [
    {
     "data": {
      "image/png": "[encoded data removed]",
      "text/plain": [
       "<Figure size 864x648 with 1 Axes>"
      ]
     },
     "metadata": {
      "needs_background": "light"
     },
     "output_type": "display_data"
    }
   ],
   "source": [
    "plt.figure(figsize=(12,9))\n",
    "plt.title('Age vs Charge')\n",
    "sns.barplot(x='age',y='expenses',data=insurance,palette='husl')\n",
    "plt.show()"
   ]
  },
  {
   "cell_type": "code",
   "execution_count": 105,
   "metadata": {},
   "outputs": [
    {
     "data": {
      "text/plain": [
       "<AxesSubplot:title={'center':'Region vs Charge'}, xlabel='region', ylabel='expenses'>"
      ]
     },
     "execution_count": 105,
     "metadata": {},
     "output_type": "execute_result"
    },
    {
     "data": {
      "image/png": "[encoded data removed]",
      "text/plain": [
       "<Figure size 720x504 with 1 Axes>"
      ]
     },
     "metadata": {
      "needs_background": "light"
     },
     "output_type": "display_data"
    }
   ],
   "source": [
    "plt.figure(figsize=(10,7))\n",
    "plt.title('Region vs Charge')\n",
    "sns.barplot(x='region',y='expenses',data=insurance,palette='Set3')"
   ]
  },
  {
   "cell_type": "code",
   "execution_count": 111,
   "metadata": {},
   "outputs": [
    {
     "data": {
      "text/plain": [
       "Text(0.5, 1.0, 'BMI VS Charge')"
      ]
     },
     "execution_count": 111,
     "metadata": {},
     "output_type": "execute_result"
    },
    {
     "data": {
      "image/png": "[encoded data removed]",
      "text/plain": [
       "<Figure size 504x360 with 1 Axes>"
      ]
     },
     "metadata": {
      "needs_background": "light"
     },
     "output_type": "display_data"
    }
   ],
   "source": [
    "plt.figure(figsize=(7,5))\n",
    "sns.scatterplot(x='bmi',y='expenses',hue='sex',data=insurance,palette='Purples')\n",
    "plt.title('BMI VS Charge')"
   ]
  },
  {
   "cell_type": "code",
   "execution_count": null,
   "metadata": {},
   "outputs": [],
   "source": []
  },
  {
   "cell_type": "code",
   "execution_count": null,
   "metadata": {},
   "outputs": [],
   "source": []
  },
  {
   "cell_type": "code",
   "execution_count": 85,
   "metadata": {},
   "outputs": [],
   "source": [
    "X = insurance.drop(['expenses'], axis = 1)\n",
    "y = insurance.expenses"
   ]
  },
  {
   "cell_type": "code",
   "execution_count": 30,
   "metadata": {},
   "outputs": [],
   "source": []
  },
  {
   "cell_type": "code",
   "execution_count": 51,
   "metadata": {},
   "outputs": [],
   "source": [
    "from sklearn.preprocessing import StandardScaler\n",
    "\n",
    "sc = StandardScaler()\n",
    "X_train = sc.fit_transform(X_train)\n",
    "X_test = sc.transform(X_test)"
   ]
  },
  {
   "cell_type": "code",
   "execution_count": 52,
   "metadata": {},
   "outputs": [
    {
     "data": {
      "text/plain": [
       "DecisionTreeRegressor(max_depth=4, random_state=13)"
      ]
     },
     "execution_count": 52,
     "metadata": {},
     "output_type": "execute_result"
    }
   ],
   "source": [
    "from sklearn.tree import DecisionTreeRegressor  # Import Decision Tree Regression model\n",
    "\n",
    "decision_tree_reg = DecisionTreeRegressor(max_depth=4, random_state=13)  # Create a instance for Decision Tree Regression model\n",
    "decision_tree_reg.fit(X_train, y_train)  # Fit data to the model"
   ]
  },
  {
   "cell_type": "code",
   "execution_count": 53,
   "metadata": {},
   "outputs": [
    {
     "data": {
      "text/plain": [
       "RandomForestRegressor(max_depth=5, n_estimators=500, random_state=13)"
      ]
     },
     "execution_count": 53,
     "metadata": {},
     "output_type": "execute_result"
    }
   ],
   "source": [
    "from sklearn.ensemble import RandomForestRegressor  # Import Random Forest Regression model\n",
    "\n",
    "random_forest_reg = RandomForestRegressor(n_estimators=500, max_depth=5, random_state=13)  # Create a instance for Random Forest Regression model\n",
    "random_forest_reg.fit(X_train, y_train)  # Fit data to the model"
   ]
  },
  {
   "cell_type": "code",
   "execution_count": 54,
   "metadata": {},
   "outputs": [
    {
     "data": {
      "text/plain": [
       "SVR(C=1000, gamma='auto')"
      ]
     },
     "execution_count": 54,
     "metadata": {},
     "output_type": "execute_result"
    }
   ],
   "source": [
    "from sklearn.svm import SVR  # Import SVR model\n",
    "\n",
    "support_vector_reg = SVR(gamma=\"auto\", kernel=\"rbf\", C=1000 )  # Create a instance for Support Vector Regression model\n",
    "support_vector_reg.fit(X_train, y_train)  # Fit data to the model"
   ]
  },
  {
   "cell_type": "code",
   "execution_count": 55,
   "metadata": {},
   "outputs": [],
   "source": [
    "# Importing evaluation metrics\n",
    "\n",
    "from sklearn.model_selection import cross_val_predict  # For K-Fold Cross Validation\n",
    "from sklearn.metrics import r2_score  # For find accuracy with R2 Score\n",
    "from sklearn.metrics import mean_squared_error  # For MSE\n",
    "from math import sqrt  # For squareroot operation"
   ]
  },
  {
   "cell_type": "code",
   "execution_count": 56,
   "metadata": {},
   "outputs": [
    {
     "name": "stdout",
     "output_type": "stream",
     "text": [
      "Training Accuracy for Decision Tree Regression Model:  0.857987286659203\n",
      "Testing Accuracy for Decision Tree Regression Model:  0.8802320436057114\n",
      "RMSE for Training Data:  4512.185281427831\n",
      "RMSE for Testing Data:  4365.62371992602\n",
      "Accuracy for 10-Fold Cross Predicted Decision Tree Regression Model:  0.8508236806420276\n"
     ]
    }
   ],
   "source": [
    "## Checking accuracy with Decision trees \n",
    "\n",
    "# Prediction with training dataset:\n",
    "y_pred_DTR_train = decision_tree_reg.predict(X_train)\n",
    "\n",
    "# Prediction with testing dataset:\n",
    "y_pred_DTR_test = decision_tree_reg.predict(X_test)\n",
    "\n",
    "# Find training accuracy for this model:\n",
    "accuracy_DTR_train = r2_score(y_train, y_pred_DTR_train)\n",
    "print(\"Training Accuracy for Decision Tree Regression Model: \", accuracy_DTR_train)\n",
    "\n",
    "# Find testing accuracy for this model:\n",
    "accuracy_DTR_test = r2_score(y_test, y_pred_DTR_test)\n",
    "print(\"Testing Accuracy for Decision Tree Regression Model: \", accuracy_DTR_test)\n",
    "\n",
    "# Find RMSE for training data:\n",
    "RMSE_DTR_train = sqrt(mean_squared_error(y_train, y_pred_DTR_train))\n",
    "print(\"RMSE for Training Data: \", RMSE_DTR_train)\n",
    "\n",
    "# Find RMSE for testing data:\n",
    "RMSE_DTR_test = sqrt(mean_squared_error(y_test, y_pred_DTR_test))\n",
    "print(\"RMSE for Testing Data: \", RMSE_DTR_test)\n",
    "\n",
    "# Prediction with 10-Fold Cross Validation:\n",
    "y_pred_cv_DTR = cross_val_predict(decision_tree_reg, X, y, cv=10)\n",
    "\n",
    "# Find accuracy after 10-Fold Cross Validation\n",
    "accuracy_cv_DTR = r2_score(y, y_pred_cv_DTR)\n",
    "print(\"Accuracy for 10-Fold Cross Predicted Decision Tree Regression Model: \", accuracy_cv_DTR)"
   ]
  },
  {
   "cell_type": "code",
   "execution_count": 57,
   "metadata": {},
   "outputs": [
    {
     "name": "stdout",
     "output_type": "stream",
     "text": [
      "Training Accuracy for Random Forest Regression Model:  0.8831275238406227\n",
      "Testing Accuracy for Random Forest Regression Model:  0.8952529450752874\n",
      "RMSE for Training Data:  4093.355224028489\n",
      "RMSE for Testing Data:  4082.6945721675384\n",
      "Accuracy for 10-Fold Cross Predicted Random Forest Regression Model:  0.8589831370501735\n"
     ]
    }
   ],
   "source": [
    "## Checking accuracy with vanilla Random forests\n",
    "\n",
    "# Prediction with training dataset:\n",
    "y_pred_RFR_train = random_forest_reg.predict(X_train)\n",
    "\n",
    "# Prediction with testing dataset:\n",
    "y_pred_RFR_test = random_forest_reg.predict(X_test)\n",
    "\n",
    "# Find training accuracy for this model:\n",
    "accuracy_RFR_train = r2_score(y_train, y_pred_RFR_train)\n",
    "print(\"Training Accuracy for Random Forest Regression Model: \", accuracy_RFR_train)\n",
    "\n",
    "# Find testing accuracy for this model:\n",
    "accuracy_RFR_test = r2_score(y_test, y_pred_RFR_test)\n",
    "print(\"Testing Accuracy for Random Forest Regression Model: \", accuracy_RFR_test)\n",
    "\n",
    "# Find RMSE for training data:\n",
    "RMSE_RFR_train = sqrt(mean_squared_error(y_train, y_pred_RFR_train))\n",
    "print(\"RMSE for Training Data: \", RMSE_RFR_train)\n",
    "\n",
    "# Find RMSE for testing data:\n",
    "RMSE_RFR_test = sqrt(mean_squared_error(y_test, y_pred_RFR_test))\n",
    "print(\"RMSE for Testing Data: \", RMSE_RFR_test)\n",
    "\n",
    "# Prediction with 10-Fold Cross Validation:\n",
    "y_pred_cv_RFR = cross_val_predict(random_forest_reg, X, y, cv=10)\n",
    "\n",
    "# Find accuracy after 10-Fold Cross Validation\n",
    "accuracy_cv_RFR = r2_score(y, y_pred_cv_RFR)\n",
    "print(\"Accuracy for 10-Fold Cross Predicted Random Forest Regression Model: \", accuracy_cv_RFR)"
   ]
  },
  {
   "cell_type": "code",
   "execution_count": 58,
   "metadata": {},
   "outputs": [
    {
     "name": "stdout",
     "output_type": "stream",
     "text": [
      "Training Accuracy for Support Vector Regression Model:  0.7454688597040091\n",
      "Testing Accuracy for Support Vector Regression Model:  0.7775422874862461\n",
      "RMSE for Training Data:  6040.790488928649\n",
      "RMSE for Testing Data:  5949.763655047545\n"
     ]
    }
   ],
   "source": [
    "## Checking accuracy with vanilla SVMs\n",
    "\n",
    "# Prediction with training dataset:\n",
    "y_pred_SVR_train = support_vector_reg.predict(X_train)\n",
    "\n",
    "# Prediction with testing dataset:\n",
    "y_pred_SVR_test = support_vector_reg.predict(X_test)\n",
    "\n",
    "# Find training accuracy for this model:\n",
    "accuracy_SVR_train = r2_score(y_train, y_pred_SVR_train)\n",
    "print(\"Training Accuracy for Support Vector Regression Model: \", accuracy_SVR_train)\n",
    "\n",
    "# Find testing accuracy for this model:\n",
    "accuracy_SVR_test = r2_score(y_test, y_pred_SVR_test)\n",
    "print(\"Testing Accuracy for Support Vector Regression Model: \", accuracy_SVR_test)\n",
    "\n",
    "# Find RMSE for training data:\n",
    "RMSE_SVR_train = sqrt(mean_squared_error(y_train, y_pred_SVR_train))\n",
    "print(\"RMSE for Training Data: \", RMSE_SVR_train)\n",
    "\n",
    "# Find RMSE for testing data:\n",
    "RMSE_SVR_test = sqrt(mean_squared_error(y_test, y_pred_SVR_test))\n",
    "print(\"RMSE for Testing Data: \", RMSE_SVR_test)"
   ]
  },
  {
   "cell_type": "code",
   "execution_count": 61,
   "metadata": {},
   "outputs": [
    {
     "data": {
      "text/html": [
       "<div>\n",
       "<style scoped>\n",
       "    .dataframe tbody tr th:only-of-type {\n",
       "        vertical-align: middle;\n",
       "    }\n",
       "\n",
       "    .dataframe tbody tr th {\n",
       "        vertical-align: top;\n",
       "    }\n",
       "\n",
       "    .dataframe thead th {\n",
       "        text-align: right;\n",
       "    }\n",
       "</style>\n",
       "<table border=\"1\" class=\"dataframe\">\n",
       "  <thead>\n",
       "    <tr style=\"text-align: right;\">\n",
       "      <th></th>\n",
       "      <th>Parameters</th>\n",
       "      <th>Training Accuracy</th>\n",
       "      <th>Testing Accuracy</th>\n",
       "      <th>Training RMSE</th>\n",
       "      <th>Testing RMSE</th>\n",
       "      <th>10-Fold Score</th>\n",
       "    </tr>\n",
       "  </thead>\n",
       "  <tbody>\n",
       "    <tr>\n",
       "      <th>Decision Tree Regression</th>\n",
       "      <td>max_depth=4</td>\n",
       "      <td>0.857987</td>\n",
       "      <td>0.880232</td>\n",
       "      <td>4512.185281</td>\n",
       "      <td>4365.623720</td>\n",
       "      <td>0.850824</td>\n",
       "    </tr>\n",
       "    <tr>\n",
       "      <th>Random Forest Regression</th>\n",
       "      <td>n_estimators=500, max_depth=4</td>\n",
       "      <td>0.883128</td>\n",
       "      <td>0.895253</td>\n",
       "      <td>4093.355224</td>\n",
       "      <td>4082.694572</td>\n",
       "      <td>0.858983</td>\n",
       "    </tr>\n",
       "    <tr>\n",
       "      <th>Support Vector Regression</th>\n",
       "      <td>kernel=”rbf”, C=1000</td>\n",
       "      <td>0.745469</td>\n",
       "      <td>0.777542</td>\n",
       "      <td>6040.790489</td>\n",
       "      <td>5949.763655</td>\n",
       "      <td>NA</td>\n",
       "    </tr>\n",
       "  </tbody>\n",
       "</table>\n",
       "</div>"
      ],
      "text/plain": [
       "                                              Parameters  Training Accuracy  \\\n",
       "Decision Tree Regression                     max_depth=4           0.857987   \n",
       "Random Forest Regression   n_estimators=500, max_depth=4           0.883128   \n",
       "Support Vector Regression           kernel=”rbf”, C=1000           0.745469   \n",
       "\n",
       "                           Testing Accuracy  Training RMSE  Testing RMSE  \\\n",
       "Decision Tree Regression           0.880232    4512.185281   4365.623720   \n",
       "Random Forest Regression           0.895253    4093.355224   4082.694572   \n",
       "Support Vector Regression          0.777542    6040.790489   5949.763655   \n",
       "\n",
       "                          10-Fold Score  \n",
       "Decision Tree Regression       0.850824  \n",
       "Random Forest Regression       0.858983  \n",
       "Support Vector Regression            NA  "
      ]
     },
     "execution_count": 61,
     "metadata": {},
     "output_type": "execute_result"
    }
   ],
   "source": [
    "# Compare all results in one table\n",
    "training_accuracies = [accuracy_DTR_train, accuracy_RFR_train, accuracy_SVR_train]\n",
    "testing_accuracies = [accuracy_DTR_test, accuracy_RFR_test, accuracy_SVR_test]\n",
    "training_RMSE = [RMSE_DTR_train, RMSE_RFR_train, RMSE_SVR_train]\n",
    "testing_RMSE = [RMSE_DTR_test, RMSE_RFR_test, RMSE_SVR_test]\n",
    "cv_accuracies = [accuracy_cv_DTR, accuracy_cv_RFR, \"NA\"]\n",
    "\n",
    "parameters = [\"max_depth=4\", \"n_estimators=500, max_depth=4\", \"kernel=”rbf”, C=1000\"]\n",
    "\n",
    "table_data = {\"Parameters\": parameters, \"Training Accuracy\": training_accuracies, \"Testing Accuracy\": testing_accuracies, \n",
    "              \"Training RMSE\": training_RMSE, \"Testing RMSE\": testing_RMSE, \"10-Fold Score\": cv_accuracies}\n",
    "model_names = [\"Decision Tree Regression\", \"Random Forest Regression\", \"Support Vector Regression\"]\n",
    "\n",
    "table_dataframe = pd.DataFrame(data=table_data, index=model_names)\n",
    "table_dataframe"
   ]
  },
  {
   "cell_type": "code",
   "execution_count": 62,
   "metadata": {},
   "outputs": [
    {
     "name": "stdout",
     "output_type": "stream",
     "text": [
      "Fitting 3 folds for each of 2166 candidates, totalling 6498 fits\n"
     ]
    },
    {
     "name": "stderr",
     "output_type": "stream",
     "text": [
      "[Parallel(n_jobs=-1)]: Using backend LokyBackend with 4 concurrent workers.\n",
      "[Parallel(n_jobs=-1)]: Done  56 tasks      | elapsed:    5.5s\n",
      "[Parallel(n_jobs=-1)]: Done 6472 tasks      | elapsed:   15.0s\n",
      "[Parallel(n_jobs=-1)]: Done 6498 out of 6498 | elapsed:   15.0s finished\n"
     ]
    },
    {
     "name": "stdout",
     "output_type": "stream",
     "text": [
      "Best paramters: {'max_depth': 4, 'min_samples_leaf': 14, 'min_samples_split': 2, 'splitter': 'best'})\n"
     ]
    },
    {
     "data": {
      "text/plain": [
       "DecisionTreeRegressor(max_depth=4, min_samples_leaf=14)"
      ]
     },
     "execution_count": 62,
     "metadata": {},
     "output_type": "execute_result"
    }
   ],
   "source": [
    "## Hyperparameter tuning in Decision trees\n",
    "\n",
    "from sklearn.tree import DecisionTreeRegressor\n",
    "from sklearn.model_selection import GridSearchCV\n",
    "\n",
    "params = { \n",
    "    \"splitter\":(\"best\", \"random\"), \n",
    "    \"max_depth\":(list(range(1, 20))), \n",
    "    \"min_samples_split\":[2, 3, 4], \n",
    "    \"min_samples_leaf\":list(range(1, 20)), \n",
    "}\n",
    "\n",
    "\n",
    "tree_clf = DecisionTreeRegressor(random_state=42)\n",
    "tree_cv = GridSearchCV(tree_clf, params, n_jobs=-1, verbose=1, cv=3)\n",
    "tree_cv.fit(X_train, y_train)\n",
    "best_params = tree_cv.best_params_\n",
    "print(f\"Best paramters: {best_params})\")\n",
    "\n",
    "tree_clf = DecisionTreeRegressor(**best_params)\n",
    "tree_clf.fit(X_train, y_train)"
   ]
  },
  {
   "cell_type": "code",
   "execution_count": 63,
   "metadata": {},
   "outputs": [
    {
     "name": "stdout",
     "output_type": "stream",
     "text": [
      "RMSE for Training Data:  4529.0709451457815\n",
      "RMSE for Testing Data:  4157.192767136226\n",
      "Training Accuracy for Decision Tree Regression Model:  0.8569224075936374\n",
      "Testing Accuracy for Decision Tree Regression Model:  0.8913953640004728\n",
      "Accuracy for 10-Fold Cross Predicted Decision Tree Regression Model:  0.8519152489746703\n"
     ]
    }
   ],
   "source": [
    "## Checking accuracy with Tuned DTs\n",
    "\n",
    "# Prediction with training dataset:\n",
    "y_pred_DTR_train = tree_clf.predict(X_train)\n",
    "\n",
    "# Prediction with testing dataset:\n",
    "y_pred_DTR_test = tree_clf.predict(X_test)\n",
    "\n",
    "# Find RMSE for training data:\n",
    "RMSE_DTR_train = sqrt(mean_squared_error(y_train, y_pred_DTR_train))\n",
    "print(\"RMSE for Training Data: \", RMSE_DTR_train)\n",
    "\n",
    "# Find RMSE for testing data:\n",
    "RMSE_DTR_test = sqrt(mean_squared_error(y_test, y_pred_DTR_test))\n",
    "print(\"RMSE for Testing Data: \", RMSE_DTR_test)\n",
    "\n",
    "# Find training accuracy for this model:\n",
    "accuracy_DTR_train = r2_score(y_train, y_pred_DTR_train)\n",
    "print(\"Training Accuracy for Decision Tree Regression Model: \", accuracy_DTR_train)\n",
    "\n",
    "# Find testing accuracy for this model:\n",
    "accuracy_DTR_test = r2_score(y_test, y_pred_DTR_test)\n",
    "print(\"Testing Accuracy for Decision Tree Regression Model: \", accuracy_DTR_test)\n",
    "\n",
    "# Prediction with 10-Fold Cross Validation:\n",
    "y_pred_cv_DTR = cross_val_predict(tree_clf, X, y, cv=10)\n",
    "\n",
    "# Find accuracy after 10-Fold Cross Validation\n",
    "accuracy_cv_DTR = r2_score(y, y_pred_cv_DTR)\n",
    "print(\"Accuracy for 10-Fold Cross Predicted Decision Tree Regression Model: \", accuracy_cv_DTR)"
   ]
  },
  {
   "cell_type": "code",
   "execution_count": 64,
   "metadata": {},
   "outputs": [
    {
     "name": "stdout",
     "output_type": "stream",
     "text": [
      "Fitting 3 folds for each of 48 candidates, totalling 144 fits\n"
     ]
    },
    {
     "name": "stderr",
     "output_type": "stream",
     "text": [
      "[Parallel(n_jobs=-1)]: Using backend LokyBackend with 4 concurrent workers.\n",
      "[Parallel(n_jobs=-1)]: Done  33 tasks      | elapsed:   25.7s\n",
      "[Parallel(n_jobs=-1)]: Done 144 out of 144 | elapsed:  2.2min finished\n"
     ]
    },
    {
     "name": "stdout",
     "output_type": "stream",
     "text": [
      "Best parameters: {'max_depth': 4, 'max_features': 'auto', 'n_estimators': 1500}\n"
     ]
    },
    {
     "data": {
      "text/plain": [
       "RandomForestRegressor(max_depth=4, n_estimators=1500)"
      ]
     },
     "execution_count": 64,
     "metadata": {},
     "output_type": "execute_result"
    }
   ],
   "source": [
    "## Hyperparameter tuning in Random forests\n",
    "\n",
    "n_estimators = [100, 500, 1000, 1500]\n",
    "max_features = ['auto', 'sqrt']\n",
    "max_depth = [2,3,4,5,6]\n",
    "max_depth.append(None)\n",
    "#min_samples_split = [2, 5, 10]\n",
    "#min_samples_leaf = [1, 2, 4, 10]\n",
    "\n",
    "\n",
    "params_grid = {'n_estimators': n_estimators, 'max_features': max_features,\n",
    "               'max_depth': max_depth} #'min_samples_split': min_samples_split,\n",
    "               #'min_samples_leaf': min_samples_leaf}\n",
    "\n",
    "\n",
    "rf_clf = RandomForestRegressor(random_state=42)\n",
    "\n",
    "rf_cv = GridSearchCV(rf_clf, params_grid, cv=3, verbose=2,n_jobs = -1)\n",
    "\n",
    "\n",
    "rf_cv.fit(X_train, y_train)\n",
    "best_params = rf_cv.best_params_\n",
    "print(f\"Best parameters: {best_params}\")\n",
    "\n",
    "rf_clf = RandomForestRegressor(**best_params)\n",
    "rf_clf.fit(X_train, y_train)"
   ]
  },
  {
   "cell_type": "code",
   "execution_count": 66,
   "metadata": {},
   "outputs": [
    {
     "name": "stdout",
     "output_type": "stream",
     "text": [
      "RMSE for Training Data:  4359.085331064916\n",
      "RMSE for Testing Data:  4054.0811877567385\n"
     ]
    }
   ],
   "source": [
    "## Checking accuracy with Tuned RFs\n",
    "\n",
    "# Prediction with training dataset:\n",
    "y_pred_RFR_train = rf_clf.predict(X_train)\n",
    "\n",
    "# Prediction with testing dataset:\n",
    "y_pred_RFR_test = rf_clf.predict(X_test)\n",
    "\n",
    "# Find RMSE for training data:\n",
    "RMSE_RFR_train = sqrt(mean_squared_error(y_train, y_pred_RFR_train))\n",
    "print(\"RMSE for Training Data: \", RMSE_RFR_train)\n",
    "\n",
    "# Find RMSE for testing data:\n",
    "RMSE_RFR_test = sqrt(mean_squared_error(y_test, y_pred_RFR_test))\n",
    "print(\"RMSE for Testing Data: \", RMSE_RFR_test)\n"
   ]
  },
  {
   "cell_type": "code",
   "execution_count": 67,
   "metadata": {},
   "outputs": [
    {
     "name": "stdout",
     "output_type": "stream",
     "text": [
      "Fitting 5 folds for each of 126 candidates, totalling 630 fits\n"
     ]
    },
    {
     "name": "stderr",
     "output_type": "stream",
     "text": [
      "[Parallel(n_jobs=-1)]: Using backend LokyBackend with 4 concurrent workers.\n",
      "[Parallel(n_jobs=-1)]: Done  42 tasks      | elapsed:   34.9s\n",
      "[Parallel(n_jobs=-1)]: Done 336 tasks      | elapsed:   41.5s\n",
      "[Parallel(n_jobs=-1)]: Done 630 out of 630 | elapsed:  3.9min finished\n",
      "C:\\Users\\MY3\\anaconda3\\lib\\site-packages\\sklearn\\model_selection\\_search.py:847: FutureWarning: The parameter 'iid' is deprecated in 0.22 and will be removed in 0.24.\n",
      "  warnings.warn(\n"
     ]
    },
    {
     "name": "stdout",
     "output_type": "stream",
     "text": [
      "Best params: {'C': 100000, 'gamma': 0.01, 'kernel': 'rbf'}\n"
     ]
    },
    {
     "data": {
      "text/plain": [
       "SVR(C=100000, gamma=0.01)"
      ]
     },
     "execution_count": 67,
     "metadata": {},
     "output_type": "execute_result"
    }
   ],
   "source": [
    "## Hyper parameter tuning the SVM\n",
    "\n",
    "from sklearn.model_selection import GridSearchCV\n",
    "\n",
    "param_grid = {'C': [0.01, 0.1, 0.5, 1, 10, 100,1000,10000,100000], \n",
    "              'gamma': [1, 0.75, 0.5, 0.25, 0.1, 0.01, 0.001], \n",
    "              'kernel': ['rbf', 'linear']} \n",
    "\n",
    "grid = GridSearchCV(SVR(), param_grid, refit=True, verbose=1, cv=5, iid=True,n_jobs = -1)\n",
    "grid.fit(X_train, y_train)\n",
    "\n",
    "best_params = grid.best_params_\n",
    "print(f\"Best params: {best_params}\")\n",
    "\n",
    "svm_clf = SVR(**best_params)\n",
    "svm_clf.fit(X_train, y_train)"
   ]
  },
  {
   "cell_type": "code",
   "execution_count": 68,
   "metadata": {},
   "outputs": [
    {
     "name": "stdout",
     "output_type": "stream",
     "text": [
      "RMSE for Training Data:  5050.055703900805\n",
      "RMSE for Testing Data:  4444.054683484056\n"
     ]
    }
   ],
   "source": [
    "## Checking accuracy with Tuned SVMs\n",
    "\n",
    "# Prediction with training dataset:\n",
    "y_pred_SVR_train = svm_clf.predict(X_train)\n",
    "\n",
    "# Prediction with testing dataset:\n",
    "y_pred_SVR_test = svm_clf.predict(X_test)\n",
    "\n",
    "# Find RMSE for training data:\n",
    "RMSE_SVR_train = sqrt(mean_squared_error(y_train, y_pred_SVR_train))\n",
    "print(\"RMSE for Training Data: \", RMSE_SVR_train)\n",
    "\n",
    "# Find RMSE for testing data:\n",
    "RMSE_SVR_test = sqrt(mean_squared_error(y_test, y_pred_SVR_test))\n",
    "print(\"RMSE for Testing Data: \", RMSE_SVR_test)\n"
   ]
  },
  {
   "cell_type": "code",
   "execution_count": null,
   "metadata": {},
   "outputs": [],
   "source": []
  }
 ],
 "metadata": {
  "kernelspec": {
   "display_name": "Python 3",
   "language": "python",
   "name": "python3"
  },
  "language_info": {
   "codemirror_mode": {
    "name": "ipython",
    "version": 3
   },
   "file_extension": ".py",
   "mimetype": "text/x-python",
   "name": "python",
   "nbconvert_exporter": "python",
   "pygments_lexer": "ipython3",
   "version": "3.8.5"
  }
 },
 "nbformat": 4,
 "nbformat_minor": 4
}
